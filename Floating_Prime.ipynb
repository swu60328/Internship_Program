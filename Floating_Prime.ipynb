{
  "nbformat": 4,
  "nbformat_minor": 0,
  "metadata": {
    "colab": {
      "name": "Floating Prime.ipynb",
      "provenance": [],
      "collapsed_sections": []
    },
    "kernelspec": {
      "name": "python3",
      "display_name": "Python 3"
    }
  },
  "cells": [
    {
      "cell_type": "code",
      "metadata": {
        "id": "dtx8STgeZPnw",
        "colab_type": "code",
        "outputId": "20383002-f45d-4a88-f62c-a1582344190a",
        "colab": {
          "base_uri": "https://localhost:8080/",
          "height": 201
        }
      },
      "source": [
        "number = 0\n",
        "list_num = []\n",
        "\n",
        "def  isPrime(number) :\n",
        "  for i in range(2,number) :\n",
        "     if number % i == 0 :\n",
        "         #print(\"Not Prime\")\n",
        "         return(False)\n",
        "         break\n",
        "  else : \n",
        "     # print(\"Prime\")\n",
        "      return(True)\n",
        "while True :\n",
        "  input_num = input(\"Please input number : \\n\")\n",
        "  \n",
        "  list_num = list(input_num)\n",
        "  list_num.remove(\".\")\n",
        "  \n",
        "  if input_num == \"0.0\" :\n",
        "   break\n",
        "  elif  len(list_num) > 12 :\n",
        "    print(\"Too many float\")\n",
        "  \n",
        "  elif len(list_num) < 12 :\n",
        "    numer = list_num[0]\n",
        "    for i in range (1,len(list_num)) :\n",
        "      numer += list_num[i]\n",
        "  \n",
        "     # print(numer)\n",
        "      if isPrime(int(numer)) == True :\n",
        "        print(\"True\")\n",
        "        break\n",
        "    else :\n",
        "      print(\"False\")  \n",
        "    \n",
        "    "
      ],
      "execution_count": 0,
      "outputs": [
        {
          "output_type": "stream",
          "text": [
            "Please input number : \n",
            "1.43318374\n",
            "True\n",
            "Please input number : \n",
            "1.6172746483\n",
            "False\n",
            "Please input number : \n",
            "1.31234567\n",
            "True\n",
            "Please input number : \n",
            "0.0\n"
          ],
          "name": "stdout"
        }
      ]
    }
  ]
}