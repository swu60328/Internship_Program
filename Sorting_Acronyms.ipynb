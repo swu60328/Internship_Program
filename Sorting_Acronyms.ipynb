{
  "nbformat": 4,
  "nbformat_minor": 0,
  "metadata": {
    "colab": {
      "name": "Sorting Acronyms.ipynb",
      "provenance": [],
      "collapsed_sections": []
    },
    "kernelspec": {
      "name": "python3",
      "display_name": "Python 3"
    }
  },
  "cells": [
    {
      "cell_type": "code",
      "metadata": {
        "id": "-cxmRpiA2elw",
        "colab_type": "code",
        "outputId": "6811cc8b-2b48-4de5-c193-34069af957cb",
        "colab": {
          "base_uri": "https://localhost:8080/",
          "height": 167
        }
      },
      "source": [
        "text = []\n",
        "final = []\n",
        "dic = {}\n",
        "Word = \"\"\n",
        "value_output = []\n",
        "\n",
        "n = 0\n",
        "while True :\n",
        "    \n",
        "    \n",
        "    test = input()\n",
        "    p = test.split()\n",
        "   \n",
        "      \n",
        "    if test == \"\" :\n",
        "      print(\"\\nINPUT:\")\n",
        "      print(n)\n",
        "      for i in text :\n",
        "        print(i)\n",
        "      break \n",
        "    \n",
        "    n = n +1\n",
        "    text.append(test)\n",
        "\n",
        "\n",
        "print(\"\\nOUTPUT :\")\n",
        "text.sort()\n",
        "text.sort(key=len,reverse=True)\n",
        "for v in text :\n",
        "   \n",
        "  final.append(v.split())\n",
        "  for d in final :\n",
        "    for f in d :\n",
        "      check_upper = f[0].isupper()\n",
        "      if check_upper == True :\n",
        "        Word = Word + f[0]\n",
        "           \n",
        "  \n",
        "    dic[v] = Word \n",
        "    Word = \"\" \n",
        "for x in dic.values():\n",
        "  value_output.append(x)\n",
        "\n",
        "value_output.sort()\n",
        "value_output.sort(key=len, reverse= True)\n",
        "\n",
        "for x in value_output :\n",
        "  print(x)\n"
      ],
      "execution_count": 2,
      "outputs": [
        {
          "output_type": "stream",
          "text": [
            "A A A\n",
            "\n",
            "\n",
            "INPUT:\n",
            "1\n",
            "A A A\n",
            "\n",
            "OUTPUT :\n",
            "AAA\n"
          ],
          "name": "stdout"
        }
      ]
    },
    {
      "cell_type": "code",
      "metadata": {
        "id": "FaIJclJhFghW",
        "colab_type": "code",
        "colab": {}
      },
      "source": [
        ""
      ],
      "execution_count": 0,
      "outputs": []
    }
  ]
}