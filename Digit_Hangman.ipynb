{
  "nbformat": 4,
  "nbformat_minor": 0,
  "metadata": {
    "colab": {
      "name": "Digit Hangman.ipynb",
      "provenance": []
    },
    "kernelspec": {
      "name": "python3",
      "display_name": "Python 3"
    }
  },
  "cells": [
    {
      "cell_type": "code",
      "metadata": {
        "id": "BIALZb1IJX0R",
        "colab_type": "code",
        "outputId": "bb4bf64c-72c1-49d3-e1f1-67ff9fa7d0ff",
        "colab": {
          "base_uri": "https://localhost:8080/",
          "height": 485
        }
      },
      "source": [
        "while True :\n",
        "  Answer = []\n",
        "  n = 0\n",
        "  for i in range(1,13) :\n",
        "    Answer += \"_\"\n",
        "  Pro = input(\"Please Input Proposition : \\n\")\n",
        "  if Pro == \"\" :\n",
        "    break\n",
        "  Pro = Pro.split()\n",
        "  for i in range(1,6) :\n",
        "    Guess = input()\n",
        "    for i in range(0,12) :\n",
        "      #print(i)\n",
        "      if Guess == Pro[i] :\n",
        "        Answer[i] = Guess\n",
        "        n += 1\n",
        "    if Guess not in Pro :  \n",
        "      Answer.append(Guess)\n",
        "    print(*Answer)\n",
        "  print(n)\n",
        "    #if Guess == i :\n",
        "\n",
        "      #print(\"test\")\n",
        "  #print(Answer)"
      ],
      "execution_count": 0,
      "outputs": [
        {
          "output_type": "stream",
          "text": [
            "Please Input Proposition : \n",
            "4 4 3 5 6 0 6 6 0 0 4 6\n",
            "3\n",
            "_ _ 3 _ _ _ _ _ _ _ _ _\n",
            "2\n",
            "_ _ 3 _ _ _ _ _ _ _ _ _ 2\n",
            "1\n",
            "_ _ 3 _ _ _ _ _ _ _ _ _ 2 1\n",
            "6\n",
            "_ _ 3 _ 6 _ 6 6 _ _ _ 6 2 1\n",
            "0\n",
            "_ _ 3 _ 6 0 6 6 0 0 _ 6 2 1\n",
            "8\n",
            "Please Input Proposition : \n",
            "0 6 6 3 8 4 3 2 9 6 7 8\n",
            "9\n",
            "_ _ _ _ _ _ _ _ 9 _ _ _\n",
            "0\n",
            "0 _ _ _ _ _ _ _ 9 _ _ _\n",
            "5\n",
            "0 _ _ _ _ _ _ _ 9 _ _ _ 5\n",
            "6\n",
            "0 6 6 _ _ _ _ _ 9 6 _ _ 5\n",
            "8\n",
            "0 6 6 _ 8 _ _ _ 9 6 _ 8 5\n",
            "7\n",
            "Please Input Proposition : \n",
            "\n"
          ],
          "name": "stdout"
        }
      ]
    }
  ]
}